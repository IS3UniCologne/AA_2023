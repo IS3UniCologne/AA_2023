{
 "cells": [
  {
   "cell_type": "markdown",
   "metadata": {},
   "source": [
    "# `AA` - Workshop 02"
   ]
  },
  {
   "cell_type": "markdown",
   "metadata": {},
   "source": [
    "In this tutorial we will introduce the concept of python libraries and cover a first such library - NumPy.\n",
    "\n",
    "We will go through the following:\n",
    "\n",
    "- Python dictionary and lists comprehensions\n",
    "- Introduction to the concept of `Python Libraries`\n",
    "- Introduction to `NumPy`"
   ]
  },
  {
   "cell_type": "markdown",
   "metadata": {},
   "source": [
    "## Python Iterable Comprehensions\n",
    "\n",
    "Comprehensions are a method for transforming one iterable into another iterable. During this transformation, items within the original iterable can be conditionally included in the new one and each item can be transformed as needed. Comprehensions are a powerful concept and can be used to substitute `for loops` and `lambda functions`. However, not all `for loop` can be written as a comprehension but all comprehensions can be written with a `for loop`. (We will talk about `lambda functions` in future workshops).\n",
    "\n",
    "A good comprehension can make your code more expressive and thus, easier to read. The key with creating comprehensions is to not let them get so complex that your head spins when you try to decipher what they are actually doing. Keeping the idea of \"easy to read\" alive.\n",
    "\n",
    "the general template you can follow for comprehension in Python:\n",
    "\n",
    "`dict_variable = {key:value for (key,value) in dictonary.items()}`\n",
    "\n",
    "`list_variable = [value for value in list]`"
   ]
  },
  {
   "cell_type": "code",
   "execution_count": 2,
   "metadata": {},
   "outputs": [],
   "source": [
    "dict1 = {'a':1, 'b':2, 'c':3, 'd':4}"
   ]
  },
  {
   "cell_type": "markdown",
   "metadata": {},
   "source": [
    "Remeber that with `items()` method you can access each key-value pair in a dictunary. You can access the values and keys in a dictionary by using `values()` and `keys()`, respectively."
   ]
  },
  {
   "cell_type": "code",
   "execution_count": 3,
   "metadata": {},
   "outputs": [
    {
     "name": "stdout",
     "output_type": "stream",
     "text": [
      "dict_items([('a', 1), ('b', 2), ('c', 3), ('d', 4)])\n",
      "dict_values([1, 2, 3, 4])\n",
      "dict_keys(['a', 'b', 'c', 'd'])\n"
     ]
    }
   ],
   "source": [
    "print(dict1.items())\n",
    "print(dict1.values())\n",
    "print(dict1.keys())"
   ]
  },
  {
   "cell_type": "markdown",
   "metadata": {},
   "source": [
    "Here are some examples of dictionary comprehensions"
   ]
  },
  {
   "cell_type": "code",
   "execution_count": 4,
   "metadata": {},
   "outputs": [
    {
     "data": {
      "text/plain": [
       "{'a': 4, 'b': 4}"
      ]
     },
     "execution_count": 4,
     "metadata": {},
     "output_type": "execute_result"
    }
   ],
   "source": [
    "{k:v for k in ['a','b'] for v in [3,4]}"
   ]
  },
  {
   "cell_type": "code",
   "execution_count": 6,
   "metadata": {},
   "outputs": [
    {
     "name": "stdout",
     "output_type": "stream",
     "text": [
      "{'a': 1, 'b': 4, 'c': 9, 'd': 16}\n"
     ]
    }
   ],
   "source": [
    "# Power 2 each value in the dictionary\n",
    "\n",
    "new_dict1 = {k:v**2 for (k,v) in dict1.items()}\n",
    "print(new_dict1)"
   ]
  },
  {
   "cell_type": "code",
   "execution_count": 7,
   "metadata": {},
   "outputs": [
    {
     "name": "stdout",
     "output_type": "stream",
     "text": [
      "{'aa': 1, 'ba': 2, 'ca': 3, 'da': 4}\n"
     ]
    }
   ],
   "source": [
    "#Changing the keys of the original dictionary\n",
    "\n",
    "dict1_keys = {k+'a':v for (k,v) in dict1.items()}\n",
    "print(dict1_keys)"
   ]
  },
  {
   "cell_type": "markdown",
   "metadata": {},
   "source": [
    "### Conditional Comprehesions"
   ]
  },
  {
   "cell_type": "markdown",
   "metadata": {},
   "source": [
    "Consider the following problem, where you want to create a new dictionary with even numbers in a range of 0-10 and it's value is the square of the number. One solution is to use a `for` loop. Another solution is to use dictionary comprehension method as follows"
   ]
  },
  {
   "cell_type": "code",
   "execution_count": 8,
   "metadata": {},
   "outputs": [
    {
     "name": "stdout",
     "output_type": "stream",
     "text": [
      "{0: 0, 2: 4, 4: 16, 6: 36, 8: 64}\n"
     ]
    }
   ],
   "source": [
    "new_dict = {n:n**2 for n in range(10) if n%2 == 0}\n",
    "\n",
    "print(new_dict)"
   ]
  },
  {
   "cell_type": "markdown",
   "metadata": {},
   "source": [
    "**Exercise:** create a distionary that detects whether the values of the following dictionary are even or odd numbers."
   ]
  },
  {
   "cell_type": "code",
   "execution_count": 1,
   "metadata": {},
   "outputs": [],
   "source": [
    "dict3 = {'a': 1, 'b': 2, 'c': 3, 'd': 4, 'e': 5, 'f':6}\n",
    "\n",
    "# Your code \n",
    "new_dict3 = {k:('even' if v%2==0 else 'odd') for (k,v) in dict3.items()}\n",
    "new_dict3"
   ]
  },
  {
   "cell_type": "markdown",
   "metadata": {},
   "source": [
    "You can do the same with any other iterable, especially lists:"
   ]
  },
  {
   "cell_type": "code",
   "execution_count": 2,
   "metadata": {},
   "outputs": [
    {
     "data": {
      "text/plain": [
       "[0, 1, 2, 3, 4, 5, 6, 7, 8, 9]"
      ]
     },
     "execution_count": 2,
     "metadata": {},
     "output_type": "execute_result"
    }
   ],
   "source": [
    "ls1 = [i for i in range(10)]\n",
    "ls1"
   ]
  },
  {
   "cell_type": "code",
   "execution_count": 3,
   "metadata": {},
   "outputs": [
    {
     "name": "stdout",
     "output_type": "stream",
     "text": [
      "['0', '9', '36', '81']\n"
     ]
    }
   ],
   "source": [
    "ls2 = [str(i**2) for i in range(10) if i%3==0 ]\n",
    "print(ls2)"
   ]
  },
  {
   "cell_type": "code",
   "execution_count": 4,
   "metadata": {},
   "outputs": [
    {
     "name": "stdout",
     "output_type": "stream",
     "text": [
      "{'e', 'i', 'a', 'u'}\n",
      "['i', 'e', 'u', 'i', 'a', 'a']\n"
     ]
    }
   ],
   "source": [
    "quote = \"life, uh, finds a way\"\n",
    "unique_vowels = {i for i in quote if i in 'aeiou'}\n",
    "vowels = [i for i in quote if i in 'aeiou']\n",
    "print(unique_vowels)\n",
    "print(vowels)"
   ]
  },
  {
   "cell_type": "markdown",
   "metadata": {},
   "source": [
    "## `Python Libraries`"
   ]
  },
  {
   "cell_type": "markdown",
   "metadata": {},
   "source": [
    "**Introduction to Libraries**\n",
    "\n",
    "A library (or module, or package) is a Python object with arbitrarily named attributes that you can bind and reference. Simply, a module is a file consisting of Python code. A module can define functions, classes and variables. A module can also include runnable code.\n",
    "\n",
    "You can use any Python source file as a module by executing an import statement in some other Python source file. The import has the following syntax:\n",
    "\n",
    "\n",
    "```\n",
    "import <module name>\n",
    "```\n",
    "\n",
    "By convention it is common to name modules so they can be called by entering an abreviated name. This is effectively importing the module in the same way that `import <module name>` will do, with the only difference of it being available as ` <module name abbreviation>`. In the case of `numpy`, for example, the abbreviation `np`is used.\n",
    "\n",
    "```\n",
    "import <module name> as <module name abbreviation>\n",
    "```\n"
   ]
  },
  {
   "cell_type": "code",
   "execution_count": 5,
   "metadata": {},
   "outputs": [],
   "source": [
    "\n",
    "import numpy as np\n"
   ]
  },
  {
   "cell_type": "markdown",
   "metadata": {},
   "source": [
    "**Adding/Installing Libraries**\n",
    "\n",
    "To add Python libraries to your installation you can use the `conda` package manager that we have installed in the last workshop. Alternatively you can also use the `pip` package manager. The quickest way to do so is via a terminal:\n",
    "\n",
    "* If you are on a **Windows** computer, use the \"Anaconda Command Prompt\" from the Start menu. \n",
    "* On a **Mac**, start up the \"Terminal\". \n",
    "* In **Linux**, use any of the terminals available.\n",
    "\n",
    "\n",
    "The gerneral command syntax is the following:\n",
    "\n",
    "```\n",
    "conda install <package name>\n",
    "```\n",
    "\n",
    "If you are looking for a specific package but are unsure of the exact command line name do a quick google search and/or check the [Anaconda Cloud](https://anaconda.org). Another approach to find the exact name of a package before installation is using the conda search command in terminal; the syntax is the following:\n",
    "\n",
    "```\n",
    "conda search <name>\n",
    "```\n"
   ]
  },
  {
   "cell_type": "markdown",
   "metadata": {},
   "source": [
    "**Relevant Libraries for this course**\n",
    "\n",
    "There is a large variety of open source libraries available in Python. Below is a list of some of the most relevant ones for data science, which will be covered in this course.\n",
    "\n",
    "* Selected data science libraries\n",
    "\n",
    "    * Data Analysis and Processing\n",
    "    >* Pandas (pd)\n",
    "    >* Numpy (np)\n",
    "    * Visualization        \n",
    "    >* matplotlib and pyplot (plt)\n",
    "    >* seaborn (sns)\n",
    "    * Models and methods\n",
    "    >* Scikit Learn (sklearn)\n",
    "    >* statsmodels"
   ]
  },
  {
   "cell_type": "markdown",
   "metadata": {},
   "source": [
    "**Executing commands from within Jupyter:** For your convenience, it is possible to execute commands from within Jupyter cells using a line prefixed with `!`.\n",
    "In the example we list `ls` the current working directory, and format it for human-readable output `-h` and to include more detail `-l`. Commands are executed in the local user shell and in the conda environment that the notebook uses."
   ]
  },
  {
   "cell_type": "code",
   "execution_count": 15,
   "metadata": {},
   "outputs": [
    {
     "name": "stdout",
     "output_type": "stream",
     "text": [
      "total 264\n",
      "-rw-r--r--@ 1 janik  staff    41K Oct 16 08:39 AA_WS_02_Libraries.ipynb\n",
      "-rw-r--r--@ 1 janik  staff    87K Oct 16 08:47 AA_WS_02_Libraries_pre.ipynb\n"
     ]
    }
   ],
   "source": [
    "!ls -lh"
   ]
  },
  {
   "cell_type": "markdown",
   "metadata": {},
   "source": [
    "**Exercise**: Install Scikit Learn on your machine using the command `conda install -c conda-forge scikit-learn`. Afterwards import the library here as sklearn.\n",
    "> Note: We use `-c conda-forge` to install from the channel \"conda-forge\", which is a community-driven package repository that is usually a little faster with package updates.\n",
    "\n",
    "> Hint: You may need to use a special flag if you issue the command from a Jupyter cells, as these are not interactive (i.e., you cannot type \"y\" to confirm)."
   ]
  },
  {
   "cell_type": "code",
   "execution_count": 249,
   "metadata": {},
   "outputs": [],
   "source": [
    "# Your Code here\n"
   ]
  },
  {
   "cell_type": "markdown",
   "metadata": {},
   "source": [
    "---"
   ]
  },
  {
   "cell_type": "markdown",
   "metadata": {},
   "source": [
    "## `NumPy`"
   ]
  },
  {
   "cell_type": "markdown",
   "metadata": {},
   "source": [
    "NumPy is the fundamental package for scientific computing with Python. It contains among other things:\n",
    "\n",
    "- A powerful N-dimensional array object\n",
    "- Sophisticated (broadcasting) functions\n",
    "- Tools for integrating C/C++ and Fortran code\n",
    "- Useful linear algebra, Fourier transform, and random number capabilities\n",
    "\n",
    "Besides its obvious scientific uses, NumPy can also be used as an efficient multi-dimensional container of generic data. Arbitrary data-types can be defined. This allows NumPy to seamlessly and speedily integrate with a wide variety of databases.\n",
    "\n",
    "NumPy’s main object is the homogeneous multidimensional array. It is a table of elements (usually numbers), all of the same type, indexed by a tuple of positive integers. In NumPy dimensions are called axes. The number of axes is rank.\n",
    "\n",
    "In today's short overview tutorial we will cover the following:\n",
    "\n",
    "1. **Creating NumPy Arrays**\n",
    "1. **Modifying (manipulating) NumPy Arrays**\n",
    "1. **NumPy Array Oprations**"
   ]
  },
  {
   "cell_type": "markdown",
   "metadata": {},
   "source": [
    "Let's get started..."
   ]
  },
  {
   "cell_type": "markdown",
   "metadata": {},
   "source": [
    "### Creating NumPy Arrays\n",
    "\n",
    "First, we can use `np.array` to create arrays from python lists. Unlike the Python lists, **NumPy is constrained to arrays that all contain the same type**. If types don't match, NumPy will upcast if possible. "
   ]
  },
  {
   "cell_type": "code",
   "execution_count": 21,
   "metadata": {},
   "outputs": [
    {
     "data": {
      "text/plain": [
       "array([1, 2, 3, 4, 5])"
      ]
     },
     "execution_count": 21,
     "metadata": {},
     "output_type": "execute_result"
    }
   ],
   "source": [
    "A = np.array([1,2,3,4,5])\n",
    "A"
   ]
  },
  {
   "cell_type": "code",
   "execution_count": 22,
   "metadata": {},
   "outputs": [
    {
     "data": {
      "text/plain": [
       "array([3.1, 5. , 4. , 6. ])"
      ]
     },
     "execution_count": 22,
     "metadata": {},
     "output_type": "execute_result"
    }
   ],
   "source": [
    "B = np.array([3.1, 5, 4, 6])\n",
    "B"
   ]
  },
  {
   "cell_type": "code",
   "execution_count": 23,
   "metadata": {},
   "outputs": [
    {
     "data": {
      "text/plain": [
       "array(['1', '2', 'a', '3'], dtype='<U21')"
      ]
     },
     "execution_count": 23,
     "metadata": {},
     "output_type": "execute_result"
    }
   ],
   "source": [
    "D =np.array([1,2,'a',3])\n",
    "D"
   ]
  },
  {
   "cell_type": "markdown",
   "metadata": {},
   "source": [
    "In the above output the `U` which denotes a Unicode dtype and the `#` denotes the number of elements it can hold. This may be different in different platforms though."
   ]
  },
  {
   "cell_type": "code",
   "execution_count": 24,
   "metadata": {},
   "outputs": [
    {
     "data": {
      "text/plain": [
       "dtype('<U21')"
      ]
     },
     "execution_count": 24,
     "metadata": {},
     "output_type": "execute_result"
    }
   ],
   "source": [
    "#dtype('<U21')  # 64bit Linux\n",
    "D.dtype"
   ]
  },
  {
   "cell_type": "code",
   "execution_count": 25,
   "metadata": {},
   "outputs": [
    {
     "data": {
      "text/plain": [
       "numpy.str_"
      ]
     },
     "execution_count": 25,
     "metadata": {},
     "output_type": "execute_result"
    }
   ],
   "source": [
    "D.dtype.type  # The type object used to instantiate a scalar of this data-type."
   ]
  },
  {
   "cell_type": "code",
   "execution_count": 26,
   "metadata": {},
   "outputs": [
    {
     "data": {
      "text/plain": [
       "84"
      ]
     },
     "execution_count": 26,
     "metadata": {},
     "output_type": "execute_result"
    }
   ],
   "source": [
    "D.dtype.itemsize #4*21"
   ]
  },
  {
   "cell_type": "markdown",
   "metadata": {},
   "source": [
    "Read more info in greater details about string types and other datatype objects in the [numpy documentation](https://numpy.org/doc/stable/reference/arrays.dtypes.html)."
   ]
  },
  {
   "cell_type": "markdown",
   "metadata": {},
   "source": [
    "If we want to explicitly set the data type of the resulting array, we can use the `dtype` keyword."
   ]
  },
  {
   "cell_type": "code",
   "execution_count": 28,
   "metadata": {},
   "outputs": [
    {
     "name": "stdout",
     "output_type": "stream",
     "text": [
      "[1. 2. 3. 8.]\n"
     ]
    }
   ],
   "source": [
    "C = np.array([1,2,3,8],dtype = float)\n",
    "print (C)"
   ]
  },
  {
   "cell_type": "markdown",
   "metadata": {},
   "source": [
    "Other examples of creating arrays using np functions:"
   ]
  },
  {
   "cell_type": "code",
   "execution_count": 30,
   "metadata": {},
   "outputs": [
    {
     "name": "stdout",
     "output_type": "stream",
     "text": [
      "E = [0. 0. 0. 0. 0.] \n",
      "\n",
      "F = [[1. 1. 1. 1.]\n",
      " [1. 1. 1. 1.]] \n",
      "\n",
      "G = [ 0  2  4  6  8 10] \n",
      "\n",
      "H = [0.   0.25 0.5  0.75 1.  ] \n",
      "\n",
      "I = [[0.47954416 0.57353017]\n",
      " [0.70009989 0.16837133]] \n",
      "\n",
      "J = [[[8 4]\n",
      "  [0 7]\n",
      "  [7 2]]\n",
      "\n",
      " [[4 6]\n",
      "  [1 8]\n",
      "  [4 3]]\n",
      "\n",
      " [[3 5]\n",
      "  [3 2]\n",
      "  [9 5]]\n",
      "\n",
      " [[0 4]\n",
      "  [4 9]\n",
      "  [7 1]]]\n"
     ]
    }
   ],
   "source": [
    "# create vector of length 5 filled with zeros\n",
    "E = np.zeros(5,dtype = float)\n",
    "\n",
    "# create 2x4 matrix of ones (float)\n",
    "F = np.ones((2,4), dtype= float)\n",
    "\n",
    "# create vector from 0-12 in steps of 2\n",
    "G = np.arange(0,12,2)\n",
    "\n",
    "# create vector from 0 to 1 with five equally (linearly) spaced elements \n",
    "H = np.linspace(0,1,5)\n",
    "\n",
    "# create a 2x2 matrix with random floats in the half-open interval [0.0, 1.0)\n",
    "I = np.random.random((2,2))\n",
    "\n",
    "#Return random integers from 0 (inclusive) to 10 (exclusive) of size (4,3,2)\n",
    "J = np.random.randint (0,10,(4,3,2))\n",
    "\n",
    "print(\"E =\", E,\n",
    "      \"\\n\\nF =\", F, \n",
    "      \"\\n\\nG =\", G, \n",
    "      \"\\n\\nH =\", H, \n",
    "      \"\\n\\nI =\", I, \n",
    "      \"\\n\\nJ =\", J)"
   ]
  },
  {
   "cell_type": "markdown",
   "metadata": {},
   "source": [
    "**Exercise**: Define k=10 numpy arrays that are filled with random integers in range (1, i), the first with length i=1, ..., the last with length i=k. Print them."
   ]
  },
  {
   "cell_type": "code",
   "execution_count": 250,
   "metadata": {},
   "outputs": [],
   "source": [
    "# Your code here\n"
   ]
  },
  {
   "cell_type": "markdown",
   "metadata": {},
   "source": [
    "### Modifying (manipulating) NumPy Arrays"
   ]
  },
  {
   "cell_type": "markdown",
   "metadata": {},
   "source": [
    "Data manipulation in Python is nearly synonymous with NumPy array manipulation. We will cover a few categories of basic array manipulations here:\n",
    "- **Attributes of arrays**: Determinig the size, shape, memory consumption and data type of arrays.\n",
    "- **Indexing of arrays**: Getting and setting the value of indivisual array elements.\n",
    "- **Slicing of arrays**: Getting and setting smaller subarrays within a larger array.\n",
    "- **Reshaping of arrays**: Changing the shape of a given array.\n",
    "- **Joining and splitting of arrays**: Combining multiple arrays into one, and splitting one array into many."
   ]
  },
  {
   "cell_type": "markdown",
   "metadata": {},
   "source": [
    "#### NumPy Array Attributes:\n",
    "In the following some examples on attributes are presented."
   ]
  },
  {
   "cell_type": "code",
   "execution_count": 35,
   "metadata": {
    "scrolled": true
   },
   "outputs": [
    {
     "name": "stdout",
     "output_type": "stream",
     "text": [
      "E ndim:  1\n",
      "F sahpe:  (2, 4)\n",
      "J size:  24\n",
      "H dtype:  float64\n",
      "itemsize:  8  bytes\n",
      "nbytes:   32 bytes\n"
     ]
    }
   ],
   "source": [
    "# returns dimension\n",
    "print(\"E ndim: \", E.ndim)\n",
    "\n",
    "# returns shape in form (#row,#col)\n",
    "print(\"F sahpe: \" , F.shape)\n",
    "\n",
    "# returns size (i.e. no of elements)\n",
    "print(\"J size: \", J.size)\n",
    "\n",
    "# returns data type\n",
    "print(\"H dtype: \", H.dtype)\n",
    "\n",
    "# returns length of one array element in bytes\n",
    "print(\"itemsize: \", I.itemsize,\" bytes\")\n",
    "\n",
    "# returns total bytes consumed by the elements of the array\n",
    "print(\"nbytes:  \", I.nbytes, \"bytes\")"
   ]
  },
  {
   "cell_type": "markdown",
   "metadata": {},
   "source": [
    "#### NumPy Array Indexing:\n",
    "In the following some examples on attributes are presented."
   ]
  },
  {
   "cell_type": "markdown",
   "metadata": {},
   "source": [
    "Accessing single elements:"
   ]
  },
  {
   "cell_type": "code",
   "execution_count": 36,
   "metadata": {},
   "outputs": [
    {
     "data": {
      "text/plain": [
       "array([1, 2, 3, 4, 5])"
      ]
     },
     "execution_count": 36,
     "metadata": {},
     "output_type": "execute_result"
    }
   ],
   "source": [
    "A"
   ]
  },
  {
   "cell_type": "code",
   "execution_count": 37,
   "metadata": {},
   "outputs": [
    {
     "data": {
      "text/plain": [
       "4"
      ]
     },
     "execution_count": 37,
     "metadata": {},
     "output_type": "execute_result"
    }
   ],
   "source": [
    "A[-2]"
   ]
  },
  {
   "cell_type": "code",
   "execution_count": 38,
   "metadata": {},
   "outputs": [
    {
     "name": "stdout",
     "output_type": "stream",
     "text": [
      "The 4th element of A is 4\n",
      "The last element of A is 5\n"
     ]
    }
   ],
   "source": [
    "print (\"The 4th element of A is {}\". format(A[3]))\n",
    "print (\"The last element of A is {}\". format(A[-1])) # index from the back"
   ]
  },
  {
   "cell_type": "markdown",
   "metadata": {},
   "source": [
    "In a multidimensional array (i.e. a matrix), you access items using a comma-seperated tuple of indices."
   ]
  },
  {
   "cell_type": "code",
   "execution_count": 39,
   "metadata": {},
   "outputs": [
    {
     "data": {
      "text/plain": [
       "array([[0.47954416, 0.57353017],\n",
       "       [0.70009989, 0.16837133]])"
      ]
     },
     "execution_count": 39,
     "metadata": {},
     "output_type": "execute_result"
    }
   ],
   "source": [
    "I"
   ]
  },
  {
   "cell_type": "code",
   "execution_count": 40,
   "metadata": {},
   "outputs": [
    {
     "data": {
      "text/plain": [
       "0.16837132666155885"
      ]
     },
     "execution_count": 40,
     "metadata": {},
     "output_type": "execute_result"
    }
   ],
   "source": [
    "I[1,1]"
   ]
  },
  {
   "cell_type": "code",
   "execution_count": 41,
   "metadata": {},
   "outputs": [
    {
     "name": "stdout",
     "output_type": "stream",
     "text": [
      "The first element of I is 0.47954416112601594\n",
      "The last element of I is 0.16837132666155885\n"
     ]
    }
   ],
   "source": [
    "print (\"The first element of I is {}\". format(I[0,0]))  #array[row,column]\n",
    "print (\"The last element of I is {}\". format(I[1,1]))   #array[row,column]"
   ]
  },
  {
   "cell_type": "markdown",
   "metadata": {},
   "source": [
    "#### NumPy Array Slicing:\n",
    "\n",
    "**One-dimensional arrays**\n",
    "\n",
    "Just as we can use square brakets to access individual array elements, we can also use them to access subarrays with the slice notation, marked by the colon `:` character. The syntax is as follow:\n",
    "` X[start (incl.):stop (excl.):step]`"
   ]
  },
  {
   "cell_type": "code",
   "execution_count": 42,
   "metadata": {},
   "outputs": [
    {
     "data": {
      "text/plain": [
       "array([ 0,  2,  4,  6,  8, 10])"
      ]
     },
     "execution_count": 42,
     "metadata": {},
     "output_type": "execute_result"
    }
   ],
   "source": [
    "G"
   ]
  },
  {
   "cell_type": "code",
   "execution_count": 43,
   "metadata": {},
   "outputs": [
    {
     "name": "stdout",
     "output_type": "stream",
     "text": [
      "middle subarray: [4 6]\n",
      "First 4 elemnts: [0 2 4 6 8]\n",
      "Last 3 elements: [ 6  8 10]\n",
      "Every other element: [0 4 8]\n",
      "All elements reversed: [10  8  6  4  2  0]\n"
     ]
    }
   ],
   "source": [
    "# item 3 and 4\n",
    "print (\"middle subarray:\", G[2:4])\n",
    "\n",
    "# item 1 to 4(excl.)\n",
    "print(\"First 4 elemnts:\", G[:5])\n",
    "\n",
    "# last 3\n",
    "print(\"Last 3 elements:\", G[-3:] )\n",
    "\n",
    "# first element and every second from there\n",
    "print(\"Every other element:\", G[::2])\n",
    "\n",
    "\n",
    "print (\"All elements reversed:\", G[::-1])"
   ]
  },
  {
   "cell_type": "markdown",
   "metadata": {},
   "source": [
    "**Multi-dimensional arrays**\n",
    "\n",
    "Multi-dimensional slices work in the same way, with multiple slices seperated by commas. The command is `X[slice row, slice column]`"
   ]
  },
  {
   "cell_type": "code",
   "execution_count": 44,
   "metadata": {},
   "outputs": [
    {
     "data": {
      "text/plain": [
       "array([[ 6,  1,  0, 16],\n",
       "       [13, 11, 15, 19],\n",
       "       [ 3,  6, 10,  7]])"
      ]
     },
     "execution_count": 44,
     "metadata": {},
     "output_type": "execute_result"
    }
   ],
   "source": [
    "# create a multi-dimensional array\n",
    "K = np.random.randint(0,20, (3,4))\n",
    "K"
   ]
  },
  {
   "cell_type": "code",
   "execution_count": 45,
   "metadata": {},
   "outputs": [
    {
     "name": "stdout",
     "output_type": "stream",
     "text": [
      "The first two rows and the first three column: \n",
      " [[ 6  1  0]\n",
      " [13 11 15]]\n"
     ]
    }
   ],
   "source": [
    "print (\"The first two rows and the first three column: \\n\", K[:2,:3])"
   ]
  },
  {
   "cell_type": "code",
   "execution_count": 46,
   "metadata": {},
   "outputs": [
    {
     "name": "stdout",
     "output_type": "stream",
     "text": [
      "All rows and every other column:\n",
      " [[ 6  0]\n",
      " [13 15]\n",
      " [ 3 10]]\n"
     ]
    }
   ],
   "source": [
    "print(\"All rows and every other column:\\n\", K[:,::2])"
   ]
  },
  {
   "cell_type": "code",
   "execution_count": 47,
   "metadata": {},
   "outputs": [
    {
     "name": "stdout",
     "output_type": "stream",
     "text": [
      "Reversed:\n",
      " [[ 7 10  6  3]\n",
      " [19 15 11 13]\n",
      " [16  0  1  6]]\n"
     ]
    }
   ],
   "source": [
    "print(\"Reversed:\\n\",K[::-1,::-1] )"
   ]
  },
  {
   "cell_type": "markdown",
   "metadata": {},
   "source": [
    "#### NumPy Array Reshaping:\n",
    "\n",
    "Another useful type of operation is reshaping of arrays. The most flexible way of doing this is with the reshape method. Note that for this to work, the size of the initial array must match the size of the reshaped array."
   ]
  },
  {
   "cell_type": "code",
   "execution_count": 37,
   "metadata": {},
   "outputs": [
    {
     "data": {
      "text/plain": [
       "array([ 1,  2,  3,  4,  5,  6,  7,  8,  9, 10, 11, 12, 13, 14, 15, 16, 17,\n",
       "       18, 19, 20, 21, 22, 23, 24])"
      ]
     },
     "execution_count": 37,
     "metadata": {},
     "output_type": "execute_result"
    }
   ],
   "source": [
    "# return evenly spaced values within a given interval\n",
    "Y = np.arange(1,25)\n",
    "Y"
   ]
  },
  {
   "cell_type": "code",
   "execution_count": 38,
   "metadata": {},
   "outputs": [
    {
     "data": {
      "text/plain": [
       "24"
      ]
     },
     "execution_count": 38,
     "metadata": {},
     "output_type": "execute_result"
    }
   ],
   "source": [
    "len(Y)"
   ]
  },
  {
   "cell_type": "code",
   "execution_count": 39,
   "metadata": {},
   "outputs": [
    {
     "data": {
      "text/plain": [
       "array([[ 1,  2,  3,  4],\n",
       "       [ 5,  6,  7,  8],\n",
       "       [ 9, 10, 11, 12],\n",
       "       [13, 14, 15, 16],\n",
       "       [17, 18, 19, 20],\n",
       "       [21, 22, 23, 24]])"
      ]
     },
     "execution_count": 39,
     "metadata": {},
     "output_type": "execute_result"
    }
   ],
   "source": [
    "# we can re-shape this array into any shape with 24 elements\n",
    "\n",
    "Y.reshape(6,4)"
   ]
  },
  {
   "cell_type": "markdown",
   "metadata": {},
   "source": [
    "**Exercise**: Select and transpose ($M^T$) the \"top-left\" matrix of K\n",
    "```\n",
    "[[ 6,  1],         [[ 6, 13],\n",
    " [13, 11]]    >>    [ 1, 11]]\n",
    "```"
   ]
  },
  {
   "cell_type": "code",
   "execution_count": 251,
   "metadata": {},
   "outputs": [],
   "source": [
    "# Your code heres\n"
   ]
  },
  {
   "cell_type": "markdown",
   "metadata": {},
   "source": [
    "Similarly, you can transpose multi-dimensional arrays, by explicitly giving the order of axes:"
   ]
  },
  {
   "cell_type": "code",
   "execution_count": 208,
   "metadata": {},
   "outputs": [
    {
     "data": {
      "text/plain": [
       "array([[[ 6,  1,  0, 16],\n",
       "        [13, 11, 15, 19],\n",
       "        [ 3,  6, 10,  7]],\n",
       "\n",
       "       [[ 6,  1,  0, 16],\n",
       "        [13, 11, 15, 19],\n",
       "        [ 3,  6, 10,  7]]])"
      ]
     },
     "execution_count": 208,
     "metadata": {},
     "output_type": "execute_result"
    }
   ],
   "source": [
    "KK = np.array([K,K])\n",
    "KK"
   ]
  },
  {
   "cell_type": "code",
   "execution_count": 206,
   "metadata": {},
   "outputs": [
    {
     "data": {
      "text/plain": [
       "array([[[ 6, 13,  3],\n",
       "        [ 1, 11,  6],\n",
       "        [ 0, 15, 10],\n",
       "        [16, 19,  7]],\n",
       "\n",
       "       [[ 6, 13,  3],\n",
       "        [ 1, 11,  6],\n",
       "        [ 0, 15, 10],\n",
       "        [16, 19,  7]]])"
      ]
     },
     "execution_count": 206,
     "metadata": {},
     "output_type": "execute_result"
    }
   ],
   "source": [
    "KK.transpose(0,2,1) # T is just shorthand for transpose"
   ]
  },
  {
   "cell_type": "markdown",
   "metadata": {},
   "source": [
    "#### NumPy Array Concatenation and Splitting\n",
    "\n",
    "All of the preceding routines worked on single arrays. It's also possible to combine multiple arrays into one, and to conversely split a single array into multiple arrays."
   ]
  },
  {
   "cell_type": "markdown",
   "metadata": {},
   "source": [
    "**Concatination of arrays**\n",
    "\n",
    "Concatenation, or joining of two arrays in NumPy, is primarily accomplished using the routine `np.concatenate`. Additionally `np.vstack`, and `np.hstack` may be used."
   ]
  },
  {
   "cell_type": "code",
   "execution_count": 85,
   "metadata": {},
   "outputs": [
    {
     "data": {
      "text/plain": [
       "array([1, 2, 3, 4, 5, 6])"
      ]
     },
     "execution_count": 85,
     "metadata": {},
     "output_type": "execute_result"
    }
   ],
   "source": [
    "P = np.array([1,2,3])\n",
    "Q = np.array([4,5,6])\n",
    "np.concatenate((P,Q))"
   ]
  },
  {
   "cell_type": "code",
   "execution_count": 86,
   "metadata": {},
   "outputs": [],
   "source": [
    "R = np.array([[3,5,7],[1,3,5]])\n",
    "S = np.array([[2,4,2],[0,9,8]])"
   ]
  },
  {
   "cell_type": "code",
   "execution_count": 87,
   "metadata": {},
   "outputs": [
    {
     "data": {
      "text/plain": [
       "array([[3, 5, 7],\n",
       "       [1, 3, 5]])"
      ]
     },
     "execution_count": 87,
     "metadata": {},
     "output_type": "execute_result"
    }
   ],
   "source": [
    "R"
   ]
  },
  {
   "cell_type": "code",
   "execution_count": 88,
   "metadata": {},
   "outputs": [
    {
     "data": {
      "text/plain": [
       "array([[2, 4, 2],\n",
       "       [0, 9, 8]])"
      ]
     },
     "execution_count": 88,
     "metadata": {},
     "output_type": "execute_result"
    }
   ],
   "source": [
    "S"
   ]
  },
  {
   "cell_type": "code",
   "execution_count": 89,
   "metadata": {},
   "outputs": [
    {
     "name": "stdout",
     "output_type": "stream",
     "text": [
      "[[3 5 7]\n",
      " [1 3 5]\n",
      " [2 4 2]\n",
      " [0 9 8]]\n"
     ]
    }
   ],
   "source": [
    "#The axis along which the arrays will be joined.\n",
    "print (np.concatenate((R,S), axis = 0))"
   ]
  },
  {
   "cell_type": "markdown",
   "metadata": {},
   "source": [
    "For working with arrays of mixed dimensions, it can be more practical to use the `np.vstack` (vertical stack) and `np.hstack` (horizontal stack) functions:"
   ]
  },
  {
   "cell_type": "code",
   "execution_count": 90,
   "metadata": {},
   "outputs": [],
   "source": [
    "R = np.array([[3,5,7],[1,3,5]])\n",
    "S = np.array([[2,4,2],[0,9,8]])"
   ]
  },
  {
   "cell_type": "code",
   "execution_count": 91,
   "metadata": {},
   "outputs": [
    {
     "data": {
      "text/plain": [
       "array([[3, 5, 7],\n",
       "       [1, 3, 5],\n",
       "       [2, 4, 2],\n",
       "       [0, 9, 8]])"
      ]
     },
     "execution_count": 91,
     "metadata": {},
     "output_type": "execute_result"
    }
   ],
   "source": [
    "# stack row-wise\n",
    "np.vstack((R,S))"
   ]
  },
  {
   "cell_type": "code",
   "execution_count": 92,
   "metadata": {},
   "outputs": [
    {
     "data": {
      "text/plain": [
       "array([[3, 5, 7, 2, 4, 2],\n",
       "       [1, 3, 5, 0, 9, 8]])"
      ]
     },
     "execution_count": 92,
     "metadata": {},
     "output_type": "execute_result"
    }
   ],
   "source": [
    "# stack column-wise\n",
    "np.hstack((R,S))"
   ]
  },
  {
   "cell_type": "markdown",
   "metadata": {},
   "source": [
    "**Splitting of arrays**\n",
    "\n",
    "The opposite of concatenation is splitting, which is implemented by the functions `np.split`, `np.hsplit`, and `np.vsplit`. For each of these, we can pass a list of indices giving the split points:"
   ]
  },
  {
   "cell_type": "code",
   "execution_count": 93,
   "metadata": {},
   "outputs": [
    {
     "data": {
      "text/plain": [
       "[array([2, 4, 6]), array([7, 8, 9]), array([ 1,  3, 11]), array([35, 55, 34])]"
      ]
     },
     "execution_count": 93,
     "metadata": {},
     "output_type": "execute_result"
    }
   ],
   "source": [
    "# Devides the x array to 4 equal subarrays.\n",
    "x = np.array([2,4,6,7,8,9,1,3,11,35,55,34])\n",
    "np.split(x,4)"
   ]
  },
  {
   "cell_type": "code",
   "execution_count": 94,
   "metadata": {},
   "outputs": [
    {
     "name": "stdout",
     "output_type": "stream",
     "text": [
      "[2 4 6] [7 8 9] [ 1  3 11] [35 55 34]\n"
     ]
    }
   ],
   "source": [
    "x1, x2, x3, x4 = np.split(x,4)\n",
    "print(x1, x2, x3, x4)"
   ]
  },
  {
   "cell_type": "code",
   "execution_count": 95,
   "metadata": {},
   "outputs": [
    {
     "data": {
      "text/plain": [
       "array([2, 4, 6])"
      ]
     },
     "execution_count": 95,
     "metadata": {},
     "output_type": "execute_result"
    }
   ],
   "source": [
    "x1"
   ]
  },
  {
   "cell_type": "code",
   "execution_count": 96,
   "metadata": {},
   "outputs": [
    {
     "data": {
      "text/plain": [
       "array([[ 0,  1,  2,  3],\n",
       "       [ 4,  5,  6,  7],\n",
       "       [ 8,  9, 10, 11],\n",
       "       [12, 13, 14, 15]])"
      ]
     },
     "execution_count": 96,
     "metadata": {},
     "output_type": "execute_result"
    }
   ],
   "source": [
    "Z = np.arange(16).reshape((4, 4))\n",
    "Z"
   ]
  },
  {
   "cell_type": "code",
   "execution_count": 97,
   "metadata": {},
   "outputs": [
    {
     "name": "stdout",
     "output_type": "stream",
     "text": [
      "upper: \n",
      " [[0 1 2 3]\n",
      " [4 5 6 7]]\n",
      "lower: \n",
      " [[ 8  9 10 11]\n",
      " [12 13 14 15]]\n"
     ]
    }
   ],
   "source": [
    "#Splits an array into multiple sub-arrays vertically (row-wise).\n",
    "upper, lower = np.vsplit(Z, 2)\n",
    "print(\"upper: \\n\",upper)\n",
    "print(\"lower: \\n\",lower)"
   ]
  },
  {
   "cell_type": "code",
   "execution_count": 98,
   "metadata": {},
   "outputs": [
    {
     "name": "stdout",
     "output_type": "stream",
     "text": [
      "left: \n",
      " [[ 0  1]\n",
      " [ 4  5]\n",
      " [ 8  9]\n",
      " [12 13]]\n",
      "right: \n",
      " [[ 2  3]\n",
      " [ 6  7]\n",
      " [10 11]\n",
      " [14 15]]\n"
     ]
    }
   ],
   "source": [
    "#Splits an array into multiple sub-arrays horizontally (column-wise).\n",
    "left, right = np.hsplit(Z, 2)\n",
    "print(\"left: \\n\",left)\n",
    "print(\"right: \\n\",right)"
   ]
  },
  {
   "cell_type": "markdown",
   "metadata": {},
   "source": [
    "**Exercise**: Recover the image that is encoded in the two arrays by appropriately reshaping and concatenating them!"
   ]
  },
  {
   "cell_type": "code",
   "execution_count": null,
   "metadata": {},
   "outputs": [],
   "source": [
    "from matplotlib import pyplot as plt\n",
    "arr1 = np.load('array1.npy')\n",
    "arr2 = np.load('array2.npy')\n",
    "\n",
    "# Your Code here\n",
    "\n",
    "plt.imshow(array)"
   ]
  },
  {
   "cell_type": "markdown",
   "metadata": {},
   "source": [
    "### NumPy Array Operations\n",
    "\n",
    "Numpy also allows for **element-wise** as well as linear algebra **matrix-type** operations, which are a key component of scientific computing tasks."
   ]
  },
  {
   "cell_type": "code",
   "execution_count": 231,
   "metadata": {},
   "outputs": [],
   "source": [
    "A = np.array([1,2,3,4])\n",
    "B = np.array([9,3,-9,6])"
   ]
  },
  {
   "cell_type": "code",
   "execution_count": 232,
   "metadata": {},
   "outputs": [
    {
     "data": {
      "text/plain": [
       "array([1, 2, 3, 4])"
      ]
     },
     "execution_count": 232,
     "metadata": {},
     "output_type": "execute_result"
    }
   ],
   "source": [
    "A"
   ]
  },
  {
   "cell_type": "code",
   "execution_count": 233,
   "metadata": {},
   "outputs": [
    {
     "data": {
      "text/plain": [
       "array([ 9,  3, -9,  6])"
      ]
     },
     "execution_count": 233,
     "metadata": {},
     "output_type": "execute_result"
    }
   ],
   "source": [
    "B"
   ]
  },
  {
   "cell_type": "markdown",
   "metadata": {},
   "source": [
    "**Element-wise operations**"
   ]
  },
  {
   "cell_type": "code",
   "execution_count": 234,
   "metadata": {},
   "outputs": [
    {
     "data": {
      "text/plain": [
       "array([10,  5, -6, 10])"
      ]
     },
     "execution_count": 234,
     "metadata": {},
     "output_type": "execute_result"
    }
   ],
   "source": [
    "# element-wise addition\n",
    "\n",
    "C=A+B\n",
    "C"
   ]
  },
  {
   "cell_type": "code",
   "execution_count": 235,
   "metadata": {},
   "outputs": [
    {
     "data": {
      "text/plain": [
       "array([-8, -1, 12, -2])"
      ]
     },
     "execution_count": 235,
     "metadata": {},
     "output_type": "execute_result"
    }
   ],
   "source": [
    "# element-wise substraction\n",
    "\n",
    "D=A-B\n",
    "D"
   ]
  },
  {
   "cell_type": "code",
   "execution_count": 236,
   "metadata": {},
   "outputs": [
    {
     "data": {
      "text/plain": [
       "array([  9,   6, -27,  24])"
      ]
     },
     "execution_count": 236,
     "metadata": {},
     "output_type": "execute_result"
    }
   ],
   "source": [
    "# element-wise multiplication\n",
    "\n",
    "E=A*B\n",
    "E"
   ]
  },
  {
   "cell_type": "code",
   "execution_count": 237,
   "metadata": {},
   "outputs": [
    {
     "data": {
      "text/plain": [
       "array([ 0.11111111,  0.66666667, -0.33333333,  0.66666667])"
      ]
     },
     "execution_count": 237,
     "metadata": {},
     "output_type": "execute_result"
    }
   ],
   "source": [
    "# element-wise division\n",
    "\n",
    "F=A/B\n",
    "F"
   ]
  },
  {
   "cell_type": "markdown",
   "metadata": {},
   "source": [
    "**Matrix operations**"
   ]
  },
  {
   "cell_type": "code",
   "execution_count": 244,
   "metadata": {},
   "outputs": [
    {
     "data": {
      "text/plain": [
       "array([[0, 1, 2, 3, 4],\n",
       "       [5, 6, 7, 8, 9]])"
      ]
     },
     "execution_count": 244,
     "metadata": {},
     "output_type": "execute_result"
    }
   ],
   "source": [
    "M = np.arange(10).reshape(2,5)\n",
    "M"
   ]
  },
  {
   "cell_type": "code",
   "execution_count": 245,
   "metadata": {},
   "outputs": [
    {
     "data": {
      "text/plain": [
       "array([[7, 1, 6, 4, 4],\n",
       "       [5, 4, 4, 1, 9]])"
      ]
     },
     "execution_count": 245,
     "metadata": {},
     "output_type": "execute_result"
    }
   ],
   "source": [
    "N = np.random.randint(1,10,10).reshape(2,5)\n",
    "N"
   ]
  },
  {
   "cell_type": "code",
   "execution_count": 246,
   "metadata": {},
   "outputs": [
    {
     "ename": "ValueError",
     "evalue": "matmul: Input operand 1 has a mismatch in its core dimension 0, with gufunc signature (n?,k),(k,m?)->(n?,m?) (size 2 is different from 5)",
     "output_type": "error",
     "traceback": [
      "\u001b[0;31m---------------------------------------------------------------------------\u001b[0m",
      "\u001b[0;31mValueError\u001b[0m                                Traceback (most recent call last)",
      "Cell \u001b[0;32mIn[246], line 2\u001b[0m\n\u001b[1;32m      1\u001b[0m \u001b[38;5;66;03m# Note: we are performing a matrix multiplication on two 2x5 matrices, which is not possible\u001b[39;00m\n\u001b[0;32m----> 2\u001b[0m \u001b[43mM\u001b[49m\u001b[38;5;129;43m@N\u001b[39;49m\n",
      "\u001b[0;31mValueError\u001b[0m: matmul: Input operand 1 has a mismatch in its core dimension 0, with gufunc signature (n?,k),(k,m?)->(n?,m?) (size 2 is different from 5)"
     ]
    }
   ],
   "source": [
    "# Note: we are performing a matrix multiplication on two 2x5 matrices, which is not possible\n",
    "M@N"
   ]
  },
  {
   "cell_type": "code",
   "execution_count": 247,
   "metadata": {},
   "outputs": [
    {
     "data": {
      "text/plain": [
       "array([[7, 5],\n",
       "       [1, 4],\n",
       "       [6, 4],\n",
       "       [4, 1],\n",
       "       [4, 9]])"
      ]
     },
     "execution_count": 247,
     "metadata": {},
     "output_type": "execute_result"
    }
   ],
   "source": [
    "# We can transpose one of the matrices to obtain a 5x2 matrix\n",
    "N.T"
   ]
  },
  {
   "cell_type": "code",
   "execution_count": 248,
   "metadata": {},
   "outputs": [
    {
     "data": {
      "text/plain": [
       "array([[ 41,  51],\n",
       "       [151, 166]])"
      ]
     },
     "execution_count": 248,
     "metadata": {},
     "output_type": "execute_result"
    }
   ],
   "source": [
    "# The operation works\n",
    "M@N.T # @ is shorthand for matmul()"
   ]
  },
  {
   "cell_type": "markdown",
   "metadata": {},
   "source": [
    "**Final note**\n",
    "To add table of content to your jupyter notebook, you need to install `nbextension` available on https://github.com/minrk/ipython_extensions."
   ]
  },
  {
   "cell_type": "markdown",
   "metadata": {},
   "source": [
    "---"
   ]
  }
 ],
 "metadata": {
  "kernelspec": {
   "display_name": "Python 3 (ipykernel)",
   "language": "python",
   "name": "python3"
  },
  "language_info": {
   "codemirror_mode": {
    "name": "ipython",
    "version": 3
   },
   "file_extension": ".py",
   "mimetype": "text/x-python",
   "name": "python",
   "nbconvert_exporter": "python",
   "pygments_lexer": "ipython3",
   "version": "3.10.12"
  },
  "toc": {
   "base_numbering": 1,
   "nav_menu": {},
   "number_sections": true,
   "sideBar": true,
   "skip_h1_title": false,
   "title_cell": "Table of Contents",
   "title_sidebar": "Contents",
   "toc_cell": false,
   "toc_position": {},
   "toc_section_display": true,
   "toc_window_display": true
  }
 },
 "nbformat": 4,
 "nbformat_minor": 4
}
