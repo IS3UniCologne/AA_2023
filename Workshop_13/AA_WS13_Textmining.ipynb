{
 "cells": [
  {
   "cell_type": "markdown",
   "metadata": {},
   "source": [
    "# Text Mining and Natural Language Processing\n",
    "\n",
    "\n",
    "This set of notes focuses on the basiscs of processing free text data.  In addition to the more structured relational data and graphs we have discussed previously, free text makes up one of the most common types of \"widely available\" data: web pages, unstructured \"comment\" fields in many relational databases, and many other easily-obtained large sources of data naturally come in free text form.  The notable difference, of course ,is that unlike the data types we have discussed before, free text lacks the \"easily extractable\" structure inherent in the previous types of data we have considered.\n",
    "\n",
    "This is not to say, of course, that free text data lacks structure.  Just the opposite: by its very definition free text usually needs to have meaning to the people who are reading that data.  But the task of actually understanding this structure is a problem that is still beyond the scope of \"generic\" data science tools, because it often involves human-level intelligence (or at least bringing to bear an enormous amount of external context) to understand the meaning behind the text.  \n",
    "This is also naturally a debatable point, and this particular perspective on free text data is one that may need to be reconsidered based upon advances in the upcoming years. \n",
    "\n",
    "\n",
    "## Free text in data science\n",
    "\n",
    "As mentioned above, the goal that we will consider here of using free text in data science is to extract some meaningful information from the text, _without_ any deep understanding of its meaning.  The reason for this is simple: extracting deep understanding from text is hard.\n",
    "\n",
    "\n",
    "### Natural language processing/understanding\n",
    "The general field of Natural Language Processing (some might differentiate between NLP and \"natural language understanding\", but for our purposes here you can think of these synonymously) looks to truly understand the structure behind free text, e.g. perform tasks like parse the sentences grammatically, describe the general entities and properties that the text is referring to, etc.  But it is easy to come up with examples of why this can be hard.  For example, consider he following example, known as a Winograd schema:\n",
    "\n",
    "> The city councilmen refused the demonstrators a permit because they [feared/advocated] violence.\n",
    "\n",
    "If you read the sentence:\n",
    " \n",
    "> The city councilmen refused the demonstrators a permit because they feared violence.\n",
    "\n",
    "then it is fairly obviously that the \"they\" here refers to the city councilmen; fearing violence would not be a reason for denying someone a permit, so clearly it is the councilmen that fear violence.  On the other hand, in the sentence\n",
    "\n",
    "> The city councilmen refused the demonstrators a permit because they advocated violence.\n",
    "\n",
    "the \"they\" term clearly applies to the demonstrators (the city councilmen presumably would not advocate for violence, let along deny someone a permit because they, the councilmen, were advocating violence).  The point of all this (and this was the original point of these examples, which were originally proposed by Terry Winograd in 1972) is that when we do something \"simple\", like parse a sentence, we bring to bear an enormous amount of outside knowledge and context to this action.  Unlike say, XML documents, there is no internally-specified format that makes language unambiguous; it could be unambiguous only because of external context and knowledge, or it could even be completely ambiguous.  Or in a different vein, there can be grammatically-incorrect sentences that still have clear syntactic meaning, and there can be grammatically-correct sentences that are meaningful.\n",
    "\n",
    "\n",
    "### Free text in data science\n",
    "\n",
    "Fortunately, for many data science tasks, we can still extract considerable information from text _while only understanding it at an extremely rudimentary level_.  Consider the following two reviews for the same movie:\n",
    "\n",
    "> ... truly, a stunning exercise in large-scale filmmaking; a beautifully-assembled picture in which Abrams combines a magnificent cast with a marvelous flair for big-screen, sci-fi storytelling.\n",
    "\n",
    "and\n",
    "\n",
    "> It's loud and full of vim -- but a little hollow and heartless.\n",
    "\n",
    "Understanding that the first review is positive, while the second review is negative, doesn't take any deep understand of the language itself, it can be done by simple keyword lookup: \"stunning\" and \"marvelous\" are associated with a positive review, while \"hollow\" and \"heartless\" are associated with negative reviews.  Now, of course it's possible to use more complex language to signify a positive review while using some \"negative\" words, with statements like, \"not at all boring\".  But people don't usually write exclusively in this manner (doing so would be \"not at all clear\"), so that the general sentiment of text can still come through very easily even with a few instances where the words themselves can throw you off.\n",
    "\n",
    "\n",
    "**Terminology:** Before we begin, a quick note on terminology.  In these notes \"document\" will mean an individual group of free text data (this could be an actual document or a text field in a database).  \"Words\" or \"terms\" refer to individual tokens separated by whitespace, and additionally also refers to puncutation (so we will often separate punctuation explicitly from the surounding words.  \"Corpus\" refers to a collection of documents, and we will sometimes refer to the set of all _unique_ words/tokens in the corpus as the \"vocabulary\".\n"
   ]
  },
  {
   "cell_type": "markdown",
   "metadata": {},
   "source": [
    "The methods of text mining learned in the lecture are presented in this tutorial. We will deal extensively with tokenization and feature reduction methods. Then we will implement a simple text classification algorithm. We will herein examine the Bag of Word model in more detail and will implement both \"Total Count\" and \"TD-IDF\".\n",
    "For this topic we will use the Natural Language Toolkit, `nltk` library. https://www.nltk.org\n",
    "\n",
    "**Content**\n",
    "1. Tokenization\n",
    "    1. Simple Tokenizer\n",
    "    2. Sentence Tokenizer\n",
    "    3. Word Tokenizer\n",
    "2. Feature Reduction\n",
    "    1. Stop-Words\n",
    "    2. Stemming\n",
    "    3. Lemmatization\n",
    "3. Text Classification\n",
    "    1. Total Count\n",
    "    2. TD-IDF"
   ]
  },
  {
   "cell_type": "markdown",
   "metadata": {
    "collapsed": true,
    "jupyter": {
     "outputs_hidden": true
    }
   },
   "source": [
    "## Bag of words models and TFIDF\n",
    "\n",
    "The bag of words model is by far the most common means of representing documents in data science.  Under this model, a document is described soley by the set of words (and possibly their counts) that make up the document.  All information about the actual ordering of the words is ignored.  \n"
   ]
  },
  {
   "cell_type": "code",
   "execution_count": 1,
   "metadata": {},
   "outputs": [],
   "source": [
    "import nltk"
   ]
  },
  {
   "cell_type": "markdown",
   "metadata": {},
   "source": [
    "If this is the first time that you use, you need to install the english text corpus and grammar once:"
   ]
  },
  {
   "cell_type": "code",
   "execution_count": 17,
   "metadata": {},
   "outputs": [
    {
     "name": "stderr",
     "output_type": "stream",
     "text": [
      "[nltk_data] Downloading package punkt to /Users/janik/nltk_data...\n",
      "[nltk_data]   Package punkt is already up-to-date!\n",
      "[nltk_data] Downloading package stopwords to /Users/janik/nltk_data...\n",
      "[nltk_data]   Package stopwords is already up-to-date!\n",
      "[nltk_data] Downloading package wordnet to /Users/janik/nltk_data...\n"
     ]
    },
    {
     "data": {
      "text/plain": [
       "True"
      ]
     },
     "execution_count": 17,
     "metadata": {},
     "output_type": "execute_result"
    }
   ],
   "source": [
    "nltk.download(['punkt', 'stopwords', 'wordnet'])"
   ]
  },
  {
   "cell_type": "code",
   "execution_count": 2,
   "metadata": {},
   "outputs": [],
   "source": [
    "text=\"\"\"Hello Mr. Ritter, how are you doing today? The University of Cologne is awesome. \n",
    "The exam will be quite easy. You shouldn't be worried. Are you interested in studying here?\"\"\""
   ]
  },
  {
   "cell_type": "markdown",
   "metadata": {},
   "source": [
    "`re` is useful package in python for text processing services."
   ]
  },
  {
   "cell_type": "code",
   "execution_count": 3,
   "metadata": {},
   "outputs": [
    {
     "name": "stdout",
     "output_type": "stream",
     "text": [
      "['Hello Mr', ' Ritter, how are you doing today', ' The University of Cologne is awesome', ' \\nThe exam will be quite easy', \" You shouldn't be worried\", ' Are you interested in studying here', '']\n"
     ]
    }
   ],
   "source": [
    "# Trivial approach to tokenize text with regular expressions\n",
    "import re \n",
    "tokenized_text=re.split(\"\\.|\\?\", text)\n",
    "print(tokenized_text)"
   ]
  },
  {
   "cell_type": "code",
   "execution_count": 7,
   "metadata": {
    "scrolled": true
   },
   "outputs": [
    {
     "name": "stdout",
     "output_type": "stream",
     "text": [
      "['Hello Mr. Ritter, how are you doing today?', 'The University of Cologne is awesome.', 'The exam will be quite easy.', \"You shouldn't be worried.\", 'Are you interested in studying here?']\n"
     ]
    }
   ],
   "source": [
    "# Sentence Tokenization \n",
    "\n",
    "#nltk.download('punkt')\n",
    "from nltk.tokenize import sent_tokenize\n",
    "\n",
    "tokenized_text = sent_tokenize(text)\n",
    "\n",
    "print(tokenized_text)\n"
   ]
  },
  {
   "cell_type": "code",
   "execution_count": 8,
   "metadata": {},
   "outputs": [
    {
     "name": "stdout",
     "output_type": "stream",
     "text": [
      "['Hello', 'Mr.', 'Ritter', ',', 'how', 'are', 'you', 'doing', 'today', '?', 'The', 'University', 'of', 'Cologne', 'is', 'awesome', '.', 'The', 'exam', 'will', 'be', 'quite', 'easy', '.', 'You', 'should', \"n't\", 'be', 'worried', '.', 'Are', 'you', 'interested', 'in', 'studying', 'here', '?']\n"
     ]
    }
   ],
   "source": [
    "# Word Tokenization\n",
    "\n",
    "from nltk.tokenize import word_tokenize\n",
    "tokenized_word = word_tokenize(text)\n",
    "\n",
    "print(tokenized_word)"
   ]
  },
  {
   "cell_type": "code",
   "execution_count": 9,
   "metadata": {},
   "outputs": [
    {
     "name": "stdout",
     "output_type": "stream",
     "text": [
      "<FreqDist with 31 samples and 37 outcomes>\n"
     ]
    }
   ],
   "source": [
    "# Analyze frequency distribution of words\n",
    "\n",
    "from nltk.probability import FreqDist\n",
    "fdist = FreqDist(tokenized_word)\n",
    "print(fdist)"
   ]
  },
  {
   "cell_type": "code",
   "execution_count": 10,
   "metadata": {},
   "outputs": [
    {
     "data": {
      "image/png": "[encoded data removed]",
      "text/plain": [
       "<Figure size 640x480 with 1 Axes>"
      ]
     },
     "metadata": {},
     "output_type": "display_data"
    }
   ],
   "source": [
    "import matplotlib.pyplot as plt\n",
    "\n",
    "\n",
    "fdist.plot(30,cumulative=False)\n",
    "plt.show()"
   ]
  },
  {
   "cell_type": "markdown",
   "metadata": {},
   "source": [
    "### Dimension Reduction\n",
    "In the lecture we learned that we use a dedicated feature dimension (i.e., column) for each word. However, most languages consist of several hundred thousand up to millions of words. Accordingly, the feature space becomes very large and we quickly reach our limits (e.g., Curse of Dimensionality). Text Mining offers us methods to reduce the number of dimensions. In the following we will look at \"Stop-Word\", \"Stemming\" and \"Lemmatization\"."
   ]
  },
  {
   "cell_type": "code",
   "execution_count": 13,
   "metadata": {},
   "outputs": [
    {
     "name": "stdout",
     "output_type": "stream",
     "text": [
      "{'each', \"it's\", 'isn', 'and', 'yourselves', 'so', 'did', \"isn't\", 'yourself', 'doing', 'were', 'doesn', 'above', 'during', 'wasn', 'our', 'what', 'should', 'ourselves', \"that'll\", 'all', 'other', 'mustn', 'him', \"doesn't\", 'am', 'below', 'was', 'any', 'their', \"you'd\", 'under', 'i', 'mightn', 'own', 'some', 'being', 'there', 'how', 'against', 'll', 'before', 'off', 'its', 'very', \"mightn't\", 'here', 'these', 'then', 'on', 'hers', 'or', 'can', 'won', 'few', 'me', \"don't\", 'from', 'my', 'themselves', 're', 'didn', 'have', 'up', \"hasn't\", 'most', 'now', 'into', 'because', \"shan't\", 'had', 'after', 'in', 'the', 't', 'a', 'with', 'to', 'himself', 'them', 'do', 'out', 'myself', 'she', 'not', 'ain', 'through', 'nor', 'ma', \"she's\", 'shan', 'your', 'aren', 'only', 'those', 'who', 'no', 'weren', 'is', \"you're\", 'about', 'down', 'when', 'his', 'been', 'herself', 'if', \"aren't\", 'both', 'further', 'which', 'more', 'wouldn', 'y', 'once', 'd', \"weren't\", \"couldn't\", 'between', 'where', 've', 'haven', \"wouldn't\", 'they', 'this', 'while', 'again', 'having', 'whom', 'than', 'o', 'hasn', 'you', 'her', 'just', 'does', \"hadn't\", \"you'll\", 'shouldn', \"you've\", 'needn', 'are', 'for', 's', 'but', 'has', 'don', \"mustn't\", 'by', 'will', 'he', 'why', \"needn't\", 'until', 'such', 'at', 'we', \"should've\", 'be', 'as', 'theirs', \"wasn't\", 'of', 'm', 'couldn', \"shouldn't\", 'hadn', 'over', \"didn't\", 'yours', 'an', \"haven't\", 'that', 'ours', 'it', 'itself', \"won't\", 'too', 'same'}\n"
     ]
    }
   ],
   "source": [
    "# Load Stopwords\n",
    "\n",
    "#nltk.download('stopwords')\n",
    "from nltk.corpus import stopwords\n",
    "\n",
    "stop_words=set(stopwords.words(\"english\"))\n",
    "\n",
    "print(stop_words)"
   ]
  },
  {
   "cell_type": "code",
   "execution_count": 14,
   "metadata": {
    "scrolled": true
   },
   "outputs": [
    {
     "name": "stdout",
     "output_type": "stream",
     "text": [
      "Tokenized Sentence:\n",
      "  ['Hello', 'Mr.', 'Ritter', ',', 'how', 'are', 'you', 'doing', 'today', '?', 'The', 'University', 'of', 'Cologne', 'is', 'awesome', '.', 'The', 'exam', 'will', 'be', 'quite', 'easy', '.', 'You', 'should', \"n't\", 'be', 'worried', '.', 'Are', 'you', 'interested', 'in', 'studying', 'here', '?']\n",
      "\n",
      " Filterd Sentence:\n",
      "  ['Hello', 'Mr.', 'Ritter', ',', 'today', '?', 'The', 'University', 'Cologne', 'awesome', '.', 'The', 'exam', 'quite', 'easy', '.', 'You', \"n't\", 'worried', '.', 'Are', 'interested', 'studying', '?']\n"
     ]
    }
   ],
   "source": [
    "# Filter out stop words\n",
    "filtered_sent=[]\n",
    "for w in tokenized_word: # tokenized words from my input text\n",
    "    if w not in stop_words:\n",
    "        filtered_sent.append(w) # use this word in machine learning tasks\n",
    "print(\"Tokenized Sentence:\\n \",tokenized_word)\n",
    "print(\"\\n Filterd Sentence:\\n \",filtered_sent)"
   ]
  },
  {
   "cell_type": "code",
   "execution_count": 15,
   "metadata": {
    "scrolled": true
   },
   "outputs": [
    {
     "name": "stdout",
     "output_type": "stream",
     "text": [
      "Filtered Sentence:\n",
      "  ['Hello', 'Mr.', 'Ritter', ',', 'today', '?', 'The', 'University', 'Cologne', 'awesome', '.', 'The', 'exam', 'quite', 'easy', '.', 'You', \"n't\", 'worried', '.', 'Are', 'interested', 'studying', '?']\n",
      "Stemmed Sentence:\n",
      "  ['hello', 'mr.', 'ritter', ',', 'today', '?', 'the', 'univers', 'cologn', 'awesom', '.', 'the', 'exam', 'quit', 'easi', '.', 'you', \"n't\", 'worri', '.', 'are', 'interest', 'studi', '?']\n"
     ]
    }
   ],
   "source": [
    "# Stemming - Reduce a word into its word root, that meaning, cut off the suffixes. \n",
    "# This could lead to stems which are not grammatically correct.\n",
    "\n",
    "from nltk.stem import PorterStemmer\n",
    "from nltk.tokenize import sent_tokenize, word_tokenize\n",
    "\n",
    "ps = PorterStemmer() # https://de.wikipedia.org/wiki/Porter-Stemmer-Algorithmus\n",
    "\n",
    "stemmed_words=[]\n",
    "for w in filtered_sent:\n",
    "    stemmed_words.append(ps.stem(w))\n",
    "\n",
    "print(\"Filtered Sentence:\\n \",filtered_sent)\n",
    "print(\"Stemmed Sentence:\\n \",stemmed_words)"
   ]
  },
  {
   "cell_type": "code",
   "execution_count": 18,
   "metadata": {},
   "outputs": [
    {
     "name": "stdout",
     "output_type": "stream",
     "text": [
      "Filtered Sentence: ['Hello', 'Mr.', 'Ritter', ',', 'today', '?', 'The', 'University', 'Cologne', 'awesome', '.', 'The', 'exam', 'quite', 'easy', '.', 'You', \"n't\", 'worried', '.', 'Are', 'interested', 'studying', '?']\n",
      "Lemmatized Sentence: ['Hello', 'Mr.', 'Ritter', ',', 'today', '?', 'The', 'University', 'Cologne', 'awesome', '.', 'The', 'exam', 'quite', 'easy', '.', 'You', \"n't\", 'worry', '.', 'Are', 'interest', 'study', '?']\n"
     ]
    }
   ],
   "source": [
    "# Lemmatization - Reduces a word to its base word. \n",
    "# This method is more sophisticated than stemming since it leverage contextual information and a dictionary.\n",
    "# However, result may depend on the chosen dictionary.\n",
    "\n",
    "#nltk.download('wordnet') # WordNet is just another NLTK corpus reader, and can be imported like this:\n",
    "\n",
    "from nltk.stem.wordnet import WordNetLemmatizer\n",
    "lem = WordNetLemmatizer()\n",
    "\n",
    "lemmatized_words=[]\n",
    "for w in filtered_sent:\n",
    "    lemmatized_words.append(lem.lemmatize(w,\"v\"))\n",
    "\n",
    "print(\"Filtered Sentence:\",filtered_sent)\n",
    "print(\"Lemmatized Sentence:\",lemmatized_words)"
   ]
  },
  {
   "cell_type": "markdown",
   "metadata": {},
   "source": [
    "Despite the obvious information we are throwing away with this representation, it send to work surpringingly well in practice, for the precise reason we mentioned above, that the general \"gist\" of many documents can be obtained with only looking at the presence/absence of words in the text.\n",
    "\n",
    "In these notes, we'll cover a simple example of creating so-called TFIDF vectors, which represent the documents via a (weighted) bag of words model. We will then using these to compute the similarity between documents.  This technique is a common approach for applications like document retrieval and or search."
   ]
  },
  {
   "cell_type": "markdown",
   "metadata": {},
   "source": [
    "### Term frequency\n",
    "\n",
    "In our example, let's begin with our corpus that contains the following three documents:"
   ]
  },
  {
   "cell_type": "code",
   "execution_count": 19,
   "metadata": {},
   "outputs": [],
   "source": [
    "documents = [\"the goal of this lecture is to explain the basics of free text processing\",\n",
    "             \"the bag of words model is one such approach\",\n",
    "             \"text processing via bag of words\"]"
   ]
  },
  {
   "cell_type": "markdown",
   "metadata": {},
   "source": [
    "In this setting, we can represent the documents using a _term frequency_ matrix, and $m \\times n$ matrix where $m$ denotes the number of documents, and $n$ denotes the vocabulary size (i.e., the number of unique words across all documents).  To see (the naive way of) how to construct this list, let's first consider a simple way to get a list of all unique words across all documents.  In general there is no need to actually sort the list of words, but we will do so for simplicity here.  It's a good idea to also generate a dictionary that maps words to their index in this list, as we'll frequently want to look up the index corresponding to a word."
   ]
  },
  {
   "cell_type": "code",
   "execution_count": 20,
   "metadata": {},
   "outputs": [
    {
     "name": "stdout",
     "output_type": "stream",
     "text": [
      "['approach', 'bag', 'basics', 'explain', 'free', 'goal', 'is', 'lecture', 'model', 'of', 'one', 'processing', 'such', 'text', 'the', 'this', 'to', 'via', 'words'] \n",
      "\n",
      "{'approach': 0, 'bag': 1, 'basics': 2, 'explain': 3, 'free': 4, 'goal': 5, 'is': 6, 'lecture': 7, 'model': 8, 'of': 9, 'one': 10, 'processing': 11, 'such': 12, 'text': 13, 'the': 14, 'this': 15, 'to': 16, 'via': 17, 'words': 18} \n",
      "\n"
     ]
    }
   ],
   "source": [
    "document_words = [doc.split() for doc in documents]\n",
    "vocab = sorted(set(sum(document_words, [])))\n",
    "vocab_dict = {k:i for i,k in enumerate(vocab)}\n",
    "print(vocab, \"\\n\")\n",
    "print(vocab_dict, \"\\n\")"
   ]
  },
  {
   "cell_type": "markdown",
   "metadata": {},
   "source": [
    "Now let's construct a matrix that contains word counts (term frequencies) for all the documents.  We'll also refer to the term frequency of the $j$th word in the $i$th library as $\\mathrm{tf}_{i,j}$."
   ]
  },
  {
   "cell_type": "code",
   "execution_count": 21,
   "metadata": {},
   "outputs": [
    {
     "name": "stdout",
     "output_type": "stream",
     "text": [
      "[[0 0 1 1 1 1 1 1 0 2 0 1 0 1 2 1 1 0 0]\n",
      " [1 1 0 0 0 0 1 0 1 1 1 0 1 0 1 0 0 0 1]\n",
      " [0 1 0 0 0 0 0 0 0 1 0 1 0 1 0 0 0 1 1]]\n"
     ]
    }
   ],
   "source": [
    "import numpy as np\n",
    "X_tf = np.zeros((len(documents), len(vocab)), dtype=int)\n",
    "for i,doc in enumerate(document_words):\n",
    "    for word in doc:\n",
    "        X_tf[i, vocab_dict[word]] += 1\n",
    "print(X_tf)"
   ]
  },
  {
   "cell_type": "markdown",
   "metadata": {},
   "source": [
    "As mentioned above, each of the _rows_ in this matrix correponds to one of the three documents above, and each column correponds to one of the 19 words.  Importantly, note that in practice (for instance on the homework), you will want to create term frequency matrices directly in sparse format, because the term frequency matrix is itself typically sparse (when there are a large number of documents, many words will only be contained in a small number of the document).\n",
    "\n",
    "In this case, we had the entry in our term frequency matrix just correspond to the number of occurences of that term.  But there are other possibilities as well:\n",
    "\n",
    "* The entry can be binary: 1 if the term occurs (any number of times), and 0 otherwise.  This somewhat mitigates the significance of common words that may occur very frequently.\n",
    "* A nonlinear scaling, e.g. $\\log (1+\\mathrm{tf}_{i,j})$, which lies somewhere between the binary case and the raw counts.\n",
    "* A scaled version of term frequencies, e.g., scaling by the maximum term frequency in the document, $\\mathrm{tf}_{i,j} / \\max_k \\mathrm{tf}_{i,k}$.  (Note that this won't affect the actual similarity scores we'll discuss next, because we will ultimately scale each document but it affects the term frequency matrix itself, of course)."
   ]
  },
  {
   "cell_type": "markdown",
   "metadata": {},
   "source": [
    "### Inverse document frequency\n",
    "\n",
    "An obvious issue with using normal term frequency counts to represent a document is that the document's vector (and the resulting similarities we will consider) will often be \"dominated\" by very common words, for example: \"of\", \"the\", \"is\", in the preceeding example documents.  This issue can be mitigated to some extent by excluding so-called \"stop words\" (common English words like \"the\", \"a\", \"of\" that aren't considered relevant to the particular documents) from the term frequency matrix.  But this still ignores the case where a word that may not be a generic stop word still happens to occur in a very large number of documents.  Intuitively, we expect that the most \"important\" words in a document are precisely those that only occur in some relatively small number of documents, so that we want to discount the weight of very frequently-occurring terms.\n",
    "\n",
    "This can be accomplished via the inverse document frequency weight for words.  Just as with term frequencies, there are some different weightings of this term, but the most common formulation is\n",
    "\n",
    "\\begin{equation}\n",
    "\\mathrm{idf}_j = \\log\\left(\\frac{\\# documents}{\\# documents with word $j$}\\right).\n",
    "\\end{equation}\n",
    "\n",
    "As an example, if the word is contained in every document, then the inverse document frequency weight will be zero (log of one).  In contrast, if a word occurs in only one document, its inverse document frequency will be $\\log (\\# documents)$.\n",
    "\n",
    "Note that inverse document frequency is a _per word_ term, as opposed to term frequency, which is _per word and document_.  We can compute inverse document frequency for our data set as follows, which mainly just requires counting how many documents contain each word."
   ]
  },
  {
   "cell_type": "code",
   "execution_count": 22,
   "metadata": {},
   "outputs": [
    {
     "name": "stdout",
     "output_type": "stream",
     "text": [
      "[1.09861229 0.40546511 1.09861229 1.09861229 1.09861229 1.09861229\n",
      " 0.40546511 1.09861229 1.09861229 0.         1.09861229 0.40546511\n",
      " 1.09861229 0.40546511 0.40546511 1.09861229 1.09861229 1.09861229\n",
      " 0.40546511]\n"
     ]
    }
   ],
   "source": [
    "idf = np.log(X_tf.shape[0]/X_tf.astype(bool).sum(axis=0))\n",
    "print(idf)"
   ]
  },
  {
   "cell_type": "markdown",
   "metadata": {},
   "source": [
    "### TFIDF\n",
    "\n",
    "The term frequency inverse document frequency (TFIDF) combination simply scales the columns of the term frequency matrix by their inverse document frequency.  In doing so, we still have an effective bag of words representation of each document, but we do so with the weighting implied by the inverse document frequency: discouting words that occur very frequently, and increasing the weight of less frequent terms."
   ]
  },
  {
   "cell_type": "code",
   "execution_count": 23,
   "metadata": {},
   "outputs": [
    {
     "name": "stdout",
     "output_type": "stream",
     "text": [
      "[[0.         0.         1.09861229 1.09861229 1.09861229 1.09861229\n",
      "  0.40546511 1.09861229 0.         0.         0.         0.40546511\n",
      "  0.         0.40546511 0.81093022 1.09861229 1.09861229 0.\n",
      "  0.        ]\n",
      " [1.09861229 0.40546511 0.         0.         0.         0.\n",
      "  0.40546511 0.         1.09861229 0.         1.09861229 0.\n",
      "  1.09861229 0.         0.40546511 0.         0.         0.\n",
      "  0.40546511]\n",
      " [0.         0.40546511 0.         0.         0.         0.\n",
      "  0.         0.         0.         0.         0.         0.40546511\n",
      "  0.         0.40546511 0.         0.         0.         1.09861229\n",
      "  0.40546511]]\n"
     ]
    }
   ],
   "source": [
    "X_tfidf = X_tf * idf\n",
    "print(X_tfidf)"
   ]
  },
  {
   "cell_type": "markdown",
   "metadata": {},
   "source": [
    "### Cosine similarity\n",
    "\n",
    "Given a TFIDF (or just term frequency) matrix, one of the more common questions to address is to compute similarity between multiple documents in the corpus.  The common metric for doing so is to compute the cosine similarity between two different documents.  This is simply a normalize inner product between the vectors describing each documents.  Specifically,\n",
    "\\begin{equation}\n",
    "\\mbox{CosineSimilarity}(x,y) = \\frac{x^T y}{\\|x\\|_2 \\cdot \\|y\\|_2}.\n",
    "\\end{equation}\n",
    "The cosine similarity is a number between zero (meaning the two documents share no terms in common) and one (meaning the two documents have the exact same term frequency or TFIDF representation).  In fact, the cosine similarity is exactly the converse of the squared Eucliean distance between the normalized document vectors; formally, for $\\tilde{x} = x / \\|x\\|_2$ and $\\tilde{y} = y / \\|y\\|_2$, \n",
    "\\begin{equation}\n",
    "\\begin{split}\n",
    "\\frac{1}{2}\\|\\tilde{x} - \\tilde{y}\\|_2^2 & = \\frac{1}{2}(\\tilde{x} - \\tilde{y})^T (\\tilde{x} - \\tilde{y}) \\\\\n",
    "& = \\frac{1}{2} (\\tilde{x}^T \\tilde{x} - 2 \\tilde{x}^T \\tilde{y} + \\tilde{y}^T \\tilde{y}) \\\\\n",
    "& = \\frac{1}{2} (1 - 2 \\tilde{x}^T \\tilde{y} + 1) \\\\\n",
    "& = 1 - \\mbox{CosineSimilarity}(x,y).\n",
    "\\end{split}\n",
    "\\end{equation}\n",
    "\n",
    "We can compute cosine similarity between the TFIDF vectors in our corpus as follows."
   ]
  },
  {
   "cell_type": "code",
   "execution_count": 24,
   "metadata": {},
   "outputs": [
    {
     "name": "stdout",
     "output_type": "stream",
     "text": [
      "[[1.         0.06796739 0.07771876]\n",
      " [0.06796739 1.         0.10281225]\n",
      " [0.07771876 0.10281225 1.        ]]\n"
     ]
    }
   ],
   "source": [
    "X_tfidf_norm = X_tfidf / np.linalg.norm(X_tfidf, axis=1)[:,None]\n",
    "M = X_tfidf_norm @ X_tfidf_norm.T\n",
    "print(M)"
   ]
  },
  {
   "cell_type": "markdown",
   "metadata": {},
   "source": [
    "We could also look at the cosine similarity with the ordinary term frequency matrix."
   ]
  },
  {
   "cell_type": "code",
   "execution_count": 25,
   "metadata": {},
   "outputs": [
    {
     "name": "stdout",
     "output_type": "stream",
     "text": [
      "[[1.         0.3928371  0.38490018]\n",
      " [0.3928371  1.         0.40824829]\n",
      " [0.38490018 0.40824829 1.        ]]\n"
     ]
    }
   ],
   "source": [
    "X_tf_norm = X_tf / np.linalg.norm(X_tf, axis=1)[:,None]\n",
    "M = X_tf_norm @ X_tf_norm.T\n",
    "print(M)"
   ]
  },
  {
   "cell_type": "markdown",
   "metadata": {},
   "source": [
    "As expected, using the term frequency matrix results in substantially higher scores: the inclusion of words that occur across many of the documents add positive terms to the inner product between the document vectors, resulting in higher similarity scores.  Note, however, that the distances are typically _all_ scaled up, meaning that the relative distances are not necssarily any more informative than the TFIDF similarities (indeed, it is typically less informative, since the scores are inflated by the \"random\" occurance of multiple high-frequency words)."
   ]
  },
  {
   "cell_type": "markdown",
   "metadata": {},
   "source": [
    "# Case Study: Text Classification for Movie Data\n",
    "\n",
    "**Objective**\n",
    "Compute the sentiment (i.e., if text has a postive or negative connotation) of text documents. \n",
    "\n",
    "Example: News Article about politicians or companies. Might be used to identify \"shitstorms\" or predict stock prices (www.stockpulse.com).\n",
    "\n",
    "**Steps**\n",
    "- Tokenization\n",
    "- Preprocessing (Remove Stop Words, Stemming and Lemmatization)\n",
    "- Bag of Words Model\n",
    "- TF-IDF\n",
    "- Model Building\n",
    "- Model Evaluation\n",
    "\n",
    "*Data Source*\n",
    "Rotten Tomato Movie Reviews\n",
    "https://www.kaggle.com/c/sentiment-analysis-on-movie-reviews/data"
   ]
  },
  {
   "cell_type": "code",
   "execution_count": 26,
   "metadata": {},
   "outputs": [
    {
     "name": "stderr",
     "output_type": "stream",
     "text": [
      "/var/folders/tm/rzk5w14x43s6q7sgpkq2r7wc0000gn/T/ipykernel_8368/4080736814.py:1: DeprecationWarning: \n",
      "Pyarrow will become a required dependency of pandas in the next major release of pandas (pandas 3.0),\n",
      "(to allow more performant data types, such as the Arrow string type, and better interoperability with other libraries)\n",
      "but was not found to be installed on your system.\n",
      "If this would cause problems for you,\n",
      "please provide us feedback at https://github.com/pandas-dev/pandas/issues/54466\n",
      "        \n",
      "  import pandas as pd\n"
     ]
    }
   ],
   "source": [
    "import pandas as pd"
   ]
  },
  {
   "cell_type": "code",
   "execution_count": 28,
   "metadata": {},
   "outputs": [],
   "source": [
    "# Load Data \n",
    "data=pd.read_csv('../data/movies.tsv', sep='\\t')"
   ]
  },
  {
   "cell_type": "code",
   "execution_count": 29,
   "metadata": {},
   "outputs": [
    {
     "data": {
      "text/html": [
       "<div>\n",
       "<style scoped>\n",
       "    .dataframe tbody tr th:only-of-type {\n",
       "        vertical-align: middle;\n",
       "    }\n",
       "\n",
       "    .dataframe tbody tr th {\n",
       "        vertical-align: top;\n",
       "    }\n",
       "\n",
       "    .dataframe thead th {\n",
       "        text-align: right;\n",
       "    }\n",
       "</style>\n",
       "<table border=\"1\" class=\"dataframe\">\n",
       "  <thead>\n",
       "    <tr style=\"text-align: right;\">\n",
       "      <th></th>\n",
       "      <th>PhraseId</th>\n",
       "      <th>SentenceId</th>\n",
       "      <th>Phrase</th>\n",
       "      <th>Sentiment</th>\n",
       "    </tr>\n",
       "  </thead>\n",
       "  <tbody>\n",
       "    <tr>\n",
       "      <th>0</th>\n",
       "      <td>1</td>\n",
       "      <td>1</td>\n",
       "      <td>A series of escapades demonstrating the adage ...</td>\n",
       "      <td>1</td>\n",
       "    </tr>\n",
       "    <tr>\n",
       "      <th>1</th>\n",
       "      <td>2</td>\n",
       "      <td>1</td>\n",
       "      <td>A series of escapades demonstrating the adage ...</td>\n",
       "      <td>2</td>\n",
       "    </tr>\n",
       "    <tr>\n",
       "      <th>2</th>\n",
       "      <td>3</td>\n",
       "      <td>1</td>\n",
       "      <td>A series</td>\n",
       "      <td>2</td>\n",
       "    </tr>\n",
       "    <tr>\n",
       "      <th>3</th>\n",
       "      <td>4</td>\n",
       "      <td>1</td>\n",
       "      <td>A</td>\n",
       "      <td>2</td>\n",
       "    </tr>\n",
       "    <tr>\n",
       "      <th>4</th>\n",
       "      <td>5</td>\n",
       "      <td>1</td>\n",
       "      <td>series</td>\n",
       "      <td>2</td>\n",
       "    </tr>\n",
       "    <tr>\n",
       "      <th>5</th>\n",
       "      <td>6</td>\n",
       "      <td>1</td>\n",
       "      <td>of escapades demonstrating the adage that what...</td>\n",
       "      <td>2</td>\n",
       "    </tr>\n",
       "    <tr>\n",
       "      <th>6</th>\n",
       "      <td>7</td>\n",
       "      <td>1</td>\n",
       "      <td>of</td>\n",
       "      <td>2</td>\n",
       "    </tr>\n",
       "    <tr>\n",
       "      <th>7</th>\n",
       "      <td>8</td>\n",
       "      <td>1</td>\n",
       "      <td>escapades demonstrating the adage that what is...</td>\n",
       "      <td>2</td>\n",
       "    </tr>\n",
       "    <tr>\n",
       "      <th>8</th>\n",
       "      <td>9</td>\n",
       "      <td>1</td>\n",
       "      <td>escapades</td>\n",
       "      <td>2</td>\n",
       "    </tr>\n",
       "    <tr>\n",
       "      <th>9</th>\n",
       "      <td>10</td>\n",
       "      <td>1</td>\n",
       "      <td>demonstrating the adage that what is good for ...</td>\n",
       "      <td>2</td>\n",
       "    </tr>\n",
       "    <tr>\n",
       "      <th>10</th>\n",
       "      <td>11</td>\n",
       "      <td>1</td>\n",
       "      <td>demonstrating the adage</td>\n",
       "      <td>2</td>\n",
       "    </tr>\n",
       "    <tr>\n",
       "      <th>11</th>\n",
       "      <td>12</td>\n",
       "      <td>1</td>\n",
       "      <td>demonstrating</td>\n",
       "      <td>2</td>\n",
       "    </tr>\n",
       "    <tr>\n",
       "      <th>12</th>\n",
       "      <td>13</td>\n",
       "      <td>1</td>\n",
       "      <td>the adage</td>\n",
       "      <td>2</td>\n",
       "    </tr>\n",
       "    <tr>\n",
       "      <th>13</th>\n",
       "      <td>14</td>\n",
       "      <td>1</td>\n",
       "      <td>the</td>\n",
       "      <td>2</td>\n",
       "    </tr>\n",
       "    <tr>\n",
       "      <th>14</th>\n",
       "      <td>15</td>\n",
       "      <td>1</td>\n",
       "      <td>adage</td>\n",
       "      <td>2</td>\n",
       "    </tr>\n",
       "    <tr>\n",
       "      <th>15</th>\n",
       "      <td>16</td>\n",
       "      <td>1</td>\n",
       "      <td>that what is good for the goose</td>\n",
       "      <td>2</td>\n",
       "    </tr>\n",
       "    <tr>\n",
       "      <th>16</th>\n",
       "      <td>17</td>\n",
       "      <td>1</td>\n",
       "      <td>that</td>\n",
       "      <td>2</td>\n",
       "    </tr>\n",
       "    <tr>\n",
       "      <th>17</th>\n",
       "      <td>18</td>\n",
       "      <td>1</td>\n",
       "      <td>what is good for the goose</td>\n",
       "      <td>2</td>\n",
       "    </tr>\n",
       "    <tr>\n",
       "      <th>18</th>\n",
       "      <td>19</td>\n",
       "      <td>1</td>\n",
       "      <td>what</td>\n",
       "      <td>2</td>\n",
       "    </tr>\n",
       "    <tr>\n",
       "      <th>19</th>\n",
       "      <td>20</td>\n",
       "      <td>1</td>\n",
       "      <td>is good for the goose</td>\n",
       "      <td>2</td>\n",
       "    </tr>\n",
       "  </tbody>\n",
       "</table>\n",
       "</div>"
      ],
      "text/plain": [
       "    PhraseId  SentenceId                                             Phrase  \\\n",
       "0          1           1  A series of escapades demonstrating the adage ...   \n",
       "1          2           1  A series of escapades demonstrating the adage ...   \n",
       "2          3           1                                           A series   \n",
       "3          4           1                                                  A   \n",
       "4          5           1                                             series   \n",
       "5          6           1  of escapades demonstrating the adage that what...   \n",
       "6          7           1                                                 of   \n",
       "7          8           1  escapades demonstrating the adage that what is...   \n",
       "8          9           1                                          escapades   \n",
       "9         10           1  demonstrating the adage that what is good for ...   \n",
       "10        11           1                            demonstrating the adage   \n",
       "11        12           1                                      demonstrating   \n",
       "12        13           1                                          the adage   \n",
       "13        14           1                                                the   \n",
       "14        15           1                                              adage   \n",
       "15        16           1                    that what is good for the goose   \n",
       "16        17           1                                               that   \n",
       "17        18           1                         what is good for the goose   \n",
       "18        19           1                                               what   \n",
       "19        20           1                              is good for the goose   \n",
       "\n",
       "    Sentiment  \n",
       "0           1  \n",
       "1           2  \n",
       "2           2  \n",
       "3           2  \n",
       "4           2  \n",
       "5           2  \n",
       "6           2  \n",
       "7           2  \n",
       "8           2  \n",
       "9           2  \n",
       "10          2  \n",
       "11          2  \n",
       "12          2  \n",
       "13          2  \n",
       "14          2  \n",
       "15          2  \n",
       "16          2  \n",
       "17          2  \n",
       "18          2  \n",
       "19          2  "
      ]
     },
     "execution_count": 29,
     "metadata": {},
     "output_type": "execute_result"
    }
   ],
   "source": [
    "# First impressions of the present data\n",
    "data.head(20)"
   ]
  },
  {
   "cell_type": "code",
   "execution_count": 30,
   "metadata": {},
   "outputs": [
    {
     "name": "stdout",
     "output_type": "stream",
     "text": [
      "<class 'pandas.core.frame.DataFrame'>\n",
      "RangeIndex: 156060 entries, 0 to 156059\n",
      "Data columns (total 4 columns):\n",
      " #   Column      Non-Null Count   Dtype \n",
      "---  ------      --------------   ----- \n",
      " 0   PhraseId    156060 non-null  int64 \n",
      " 1   SentenceId  156060 non-null  int64 \n",
      " 2   Phrase      156060 non-null  object\n",
      " 3   Sentiment   156060 non-null  int64 \n",
      "dtypes: int64(3), object(1)\n",
      "memory usage: 4.8+ MB\n"
     ]
    }
   ],
   "source": [
    "# Explore the dataframe\n",
    "data.info()"
   ]
  },
  {
   "cell_type": "code",
   "execution_count": 31,
   "metadata": {},
   "outputs": [
    {
     "data": {
      "text/plain": [
       "Sentiment\n",
       "2    79582\n",
       "3    32927\n",
       "1    27273\n",
       "4     9206\n",
       "0     7072\n",
       "Name: count, dtype: int64"
      ]
     },
     "execution_count": 31,
     "metadata": {},
     "output_type": "execute_result"
    }
   ],
   "source": [
    "# Sentiment distribution\n",
    "# 0 - negative 1 - somewhat negative 2 - neutral 3 - somewhat positive 4 - positive\n",
    "data.Sentiment.value_counts()"
   ]
  },
  {
   "cell_type": "code",
   "execution_count": 32,
   "metadata": {},
   "outputs": [
    {
     "data": {
      "image/png": "[encoded data removed]",
      "text/plain": [
       "<Figure size 640x480 with 1 Axes>"
      ]
     },
     "metadata": {},
     "output_type": "display_data"
    }
   ],
   "source": [
    "from matplotlib import pyplot as plt\n",
    "\n",
    "# Visualize sentiment distribution \n",
    "Sentiment_count=data.groupby('Sentiment').count()\n",
    "plt.bar(Sentiment_count.index.values, Sentiment_count['Phrase'])\n",
    "plt.xlabel('Review Sentiments')\n",
    "plt.ylabel('Number of Review')\n",
    "plt.show()"
   ]
  },
  {
   "cell_type": "markdown",
   "metadata": {},
   "source": [
    "## Bag of Words Model"
   ]
  },
  {
   "cell_type": "code",
   "execution_count": 93,
   "metadata": {},
   "outputs": [
    {
     "name": "stderr",
     "output_type": "stream",
     "text": [
      "/Users/janik/miniconda3/envs/AA/lib/python3.10/site-packages/sklearn/feature_extraction/text.py:525: UserWarning: The parameter 'token_pattern' will not be used since 'tokenizer' is not None'\n",
      "  warnings.warn(\n"
     ]
    }
   ],
   "source": [
    "from sklearn.feature_extraction.text import CountVectorizer #Convert a collection of text documents to a matrix of token counts\n",
    "from nltk.tokenize import word_tokenize\n",
    "\n",
    "# lowercase=True - convert all characters to lowercase\n",
    "# stop_words='englisch' - remove all stopwords based on the english language\n",
    "# ngram_range = (1,1) - only consider unigrams\n",
    "# Word Tokenizer\n",
    "cv = CountVectorizer(lowercase=True,stop_words='english',ngram_range = (1,1), tokenizer = word_tokenize)\n",
    "text_counts= cv.fit_transform(data['Phrase'])"
   ]
  },
  {
   "cell_type": "code",
   "execution_count": 94,
   "metadata": {},
   "outputs": [
    {
     "name": "stdout",
     "output_type": "stream",
     "text": [
      "  (0, 12631)\t1\n",
      "  (0, 4851)\t1\n",
      "  (0, 3744)\t1\n",
      "  (0, 396)\t1\n",
      "  (0, 6144)\t2\n",
      "  (0, 6168)\t1\n",
      "  (0, 5903)\t1\n",
      "  (0, 25)\t1\n",
      "  (0, 9799)\t1\n",
      "  (0, 715)\t1\n",
      "  (0, 706)\t1\n",
      "  (0, 13712)\t1\n",
      "  (0, 30)\t1\n",
      "  (1, 12631)\t1\n",
      "  (1, 4851)\t1\n",
      "  (1, 3744)\t1\n",
      "  (1, 396)\t1\n",
      "  (1, 6144)\t1\n",
      "  (1, 6168)\t1\n",
      "  (2, 12631)\t1\n",
      "  (4, 12631)\t1\n",
      "  (5, 4851)\t1\n",
      "  (5, 3744)\t1\n",
      "  (5, 396)\t1\n",
      "  (5, 6144)\t1\n",
      "  :\t:\n",
      "  (156050, 12190)\t1\n",
      "  (156050, 9788)\t1\n",
      "  (156051, 12190)\t1\n",
      "  (156051, 9788)\t1\n",
      "  (156052, 12190)\t1\n",
      "  (156053, 20)\t1\n",
      "  (156053, 1451)\t1\n",
      "  (156053, 5618)\t1\n",
      "  (156053, 6624)\t1\n",
      "  (156053, 1151)\t1\n",
      "  (156053, 2503)\t1\n",
      "  (156054, 20)\t1\n",
      "  (156054, 5618)\t1\n",
      "  (156054, 6624)\t1\n",
      "  (156054, 1151)\t1\n",
      "  (156054, 2503)\t1\n",
      "  (156055, 20)\t1\n",
      "  (156055, 6624)\t1\n",
      "  (156056, 5618)\t1\n",
      "  (156056, 1151)\t1\n",
      "  (156056, 2503)\t1\n",
      "  (156057, 1151)\t1\n",
      "  (156057, 2503)\t1\n",
      "  (156058, 1151)\t1\n",
      "  (156059, 2503)\t1\n"
     ]
    }
   ],
   "source": [
    "# Term Document Matrix (document, term) - \"total count\"\n",
    "print(text_counts)"
   ]
  },
  {
   "cell_type": "markdown",
   "metadata": {},
   "source": [
    "## Training and Test Set"
   ]
  },
  {
   "cell_type": "code",
   "execution_count": 95,
   "metadata": {},
   "outputs": [],
   "source": [
    "from sklearn.model_selection import train_test_split\n",
    "X_train, X_test, y_train, y_test = train_test_split(\n",
    "    text_counts, data['Sentiment'], test_size=0.3)"
   ]
  },
  {
   "cell_type": "markdown",
   "metadata": {},
   "source": [
    "## Model Building and Evaluation"
   ]
  },
  {
   "cell_type": "markdown",
   "metadata": {},
   "source": [
    "The multinomial Naive Bayes classifier is suitable for classification with\n",
    "discrete features (e.g., word counts for text classification). The\n",
    "multinomial distribution normally requires integer feature counts. However,\n",
    "in practice, fractional counts such as tf-idf may also work."
   ]
  },
  {
   "cell_type": "code",
   "execution_count": 96,
   "metadata": {},
   "outputs": [
    {
     "name": "stdout",
     "output_type": "stream",
     "text": [
      "MultinomialNB Accuracy: 0.6078858558674014\n"
     ]
    }
   ],
   "source": [
    "from sklearn.naive_bayes import MultinomialNB\n",
    "#Import scikit-learn metrics module for accuracy calculation\n",
    "from sklearn import metrics\n",
    "# Model Generation Using Multinomial Naive Bayes\n",
    "clf = MultinomialNB().fit(X_train, y_train)\n",
    "predicted= clf.predict(X_test)\n",
    "print(\"MultinomialNB Accuracy:\",metrics.accuracy_score(y_test, predicted))"
   ]
  },
  {
   "cell_type": "markdown",
   "metadata": {},
   "source": [
    "## Use TF-IDF instead of Total Count"
   ]
  },
  {
   "cell_type": "code",
   "execution_count": 89,
   "metadata": {},
   "outputs": [
    {
     "name": "stderr",
     "output_type": "stream",
     "text": [
      "/Users/janik/miniconda3/envs/AA/lib/python3.10/site-packages/sklearn/feature_extraction/text.py:525: UserWarning: The parameter 'token_pattern' will not be used since 'tokenizer' is not None'\n",
      "  warnings.warn(\n"
     ]
    }
   ],
   "source": [
    "from sklearn.feature_extraction.text import TfidfVectorizer\n",
    "\n",
    "tf=TfidfVectorizer(lowercase=True,stop_words='english',ngram_range = (1,1),tokenizer = word_tokenize)\n",
    "text_tf= tf.fit_transform(data['Phrase'])"
   ]
  },
  {
   "cell_type": "code",
   "execution_count": 90,
   "metadata": {},
   "outputs": [],
   "source": [
    "# Training and Test Sets"
   ]
  },
  {
   "cell_type": "code",
   "execution_count": 91,
   "metadata": {},
   "outputs": [],
   "source": [
    "from sklearn.model_selection import train_test_split\n",
    "X_train, X_test, y_train, y_test = train_test_split(\n",
    "    text_tf, data['Sentiment'], test_size=0.3)"
   ]
  },
  {
   "cell_type": "markdown",
   "metadata": {},
   "source": [
    "## Model Evaluation for TF-IDF Weighting"
   ]
  },
  {
   "cell_type": "code",
   "execution_count": 92,
   "metadata": {},
   "outputs": [
    {
     "name": "stdout",
     "output_type": "stream",
     "text": [
      "MultinomialNB Accuracy: 0.5862061600239225\n"
     ]
    }
   ],
   "source": [
    "from sklearn.naive_bayes import MultinomialNB\n",
    "from sklearn import metrics\n",
    "# Model Generation Using Multinomial Naive Bayes\n",
    "clf = MultinomialNB().fit(X_train, y_train)\n",
    "predicted= clf.predict(X_test)\n",
    "print(\"MultinomialNB Accuracy:\",metrics.accuracy_score(y_test, predicted))"
   ]
  },
  {
   "cell_type": "markdown",
   "metadata": {},
   "source": [
    "Here, TF-IDF doesn't seem to work better. But this might change if we count higher n-grams instead of unigrams. Why? Because unigrams cannot understand negation."
   ]
  },
  {
   "cell_type": "markdown",
   "metadata": {},
   "source": [
    "----"
   ]
  }
 ],
 "metadata": {
  "kernelspec": {
   "display_name": "Python 3 (ipykernel)",
   "language": "python",
   "name": "python3"
  },
  "language_info": {
   "codemirror_mode": {
    "name": "ipython",
    "version": 3
   },
   "file_extension": ".py",
   "mimetype": "text/x-python",
   "name": "python",
   "nbconvert_exporter": "python",
   "pygments_lexer": "ipython3",
   "version": "3.10.13"
  },
  "toc": {
   "base_numbering": 1,
   "nav_menu": {},
   "number_sections": true,
   "sideBar": true,
   "skip_h1_title": false,
   "title_cell": "Table of Contents",
   "title_sidebar": "Contents",
   "toc_cell": false,
   "toc_position": {
    "height": "calc(100% - 180px)",
    "left": "10px",
    "top": "150px",
    "width": "165px"
   },
   "toc_section_display": true,
   "toc_window_display": true
  }
 },
 "nbformat": 4,
 "nbformat_minor": 4
}
